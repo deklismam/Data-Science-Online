{
  "nbformat": 4,
  "nbformat_minor": 0,
  "metadata": {
    "colab": {
      "name": "Contas 2020 - Medium.ipynb",
      "provenance": [],
      "collapsed_sections": [],
      "toc_visible": true,
      "authorship_tag": "ABX9TyOKsdCbsAEBETqZoDgCra2A",
      "include_colab_link": true
    },
    "kernelspec": {
      "name": "python3",
      "display_name": "Python 3"
    }
  },
  "cells": [
    {
      "cell_type": "markdown",
      "metadata": {
        "id": "view-in-github",
        "colab_type": "text"
      },
      "source": [
        "<a href=\"https://colab.research.google.com/github/deklismam/Data-Science-Online/blob/master/Contas_2020_Medium.ipynb\" target=\"_parent\"><img src=\"https://colab.research.google.com/assets/colab-badge.svg\" alt=\"Open In Colab\"/></a>"
      ]
    },
    {
      "cell_type": "markdown",
      "metadata": {
        "id": "P7g_nj7hefRZ"
      },
      "source": [
        "## Contas 2020 - Explorando planilhas de gastos Excel"
      ]
    },
    {
      "cell_type": "code",
      "metadata": {
        "id": "AsSvfGW1eepK"
      },
      "source": [
        "# instalando a última versão do openpyxl, biblioteca que permite manusear planilhas excel (xlsx)\r\n",
        "!pip install -U openpyxl -q"
      ],
      "execution_count": null,
      "outputs": []
    },
    {
      "cell_type": "code",
      "metadata": {
        "id": "6o8BCG55esLE",
        "colab": {
          "base_uri": "https://localhost:8080/"
        },
        "outputId": "bd822c0f-1b80-4df3-ff0b-a1812041e6b5"
      },
      "source": [
        "# importando bibliotecas necessárias e lendo a planilha\r\n",
        "\r\n",
        "from openpyxl import load_workbook\r\n",
        "import pandas as pd\r\n",
        "import matplotlib.pyplot as plt\r\n",
        "import seaborn as sns\r\n",
        "from openpyxl.drawing.image import Image\r\n",
        "\r\n",
        "#nome para o colab rodar a partir da nova planilha (que será a disponibilizada)\r\n",
        "wb = load_workbook(filename='Contas 2021 - novo.xlsx', read_only = False, data_only=True)\r\n",
        "# nome correto para o artigo\r\n",
        "# wb = load_workbook(filename='Contas 2020.xlsx', read_only = False, data_only=True)"
      ],
      "execution_count": null,
      "outputs": [
        {
          "output_type": "stream",
          "text": [
            "/usr/local/lib/python3.6/dist-packages/openpyxl/worksheet/_reader.py:308: UserWarning: Unknown extension is not supported and will be removed\n",
            "  warn(msg)\n",
            "/usr/local/lib/python3.6/dist-packages/openpyxl/worksheet/_reader.py:292: UserWarning: Failed to load a conditional formatting rule. It will be discarded. Cause: expected <class 'float'>\n",
            "  warn(msg)\n",
            "/usr/local/lib/python3.6/dist-packages/openpyxl/worksheet/_reader.py:308: UserWarning: Conditional Formatting extension is not supported and will be removed\n",
            "  warn(msg)\n"
          ],
          "name": "stderr"
        }
      ]
    },
    {
      "cell_type": "code",
      "metadata": {
        "colab": {
          "base_uri": "https://localhost:8080/",
          "height": 636
        },
        "id": "EAZgUJcOxyZ5",
        "outputId": "b6adf299-cc52-42fd-c558-07a35747f769"
      },
      "source": [
        "# lendo as planilhas de todo o ano\r\n",
        "\r\n",
        "sheet_Jan = wb.get_sheet_by_name('Jan')\r\n",
        "sheet_Fev = wb.get_sheet_by_name('Fev')\r\n",
        "sheet_Mar = wb.get_sheet_by_name('Mar')\r\n",
        "sheet_Abr = wb.get_sheet_by_name('Abr')\r\n",
        "sheet_Mai = wb.get_sheet_by_name('Mai')\r\n",
        "sheet_Jun = wb.get_sheet_by_name('Jun')\r\n",
        "sheet_Jul = wb.get_sheet_by_name('Jul')\r\n",
        "sheet_Ago = wb.get_sheet_by_name('Ago')\r\n",
        "sheet_Set = wb.get_sheet_by_name('Set')\r\n",
        "sheet_Out = wb.get_sheet_by_name('Out')\r\n",
        "sheet_Nov = wb.get_sheet_by_name('Nov')\r\n",
        "sheet_Dez = wb.get_sheet_by_name('Dez')"
      ],
      "execution_count": null,
      "outputs": [
        {
          "output_type": "stream",
          "text": [
            "/usr/local/lib/python3.6/dist-packages/ipykernel_launcher.py:3: DeprecationWarning: Call to deprecated function get_sheet_by_name (Use wb[sheetname]).\n",
            "  This is separate from the ipykernel package so we can avoid doing imports until\n",
            "/usr/local/lib/python3.6/dist-packages/ipykernel_launcher.py:4: DeprecationWarning: Call to deprecated function get_sheet_by_name (Use wb[sheetname]).\n",
            "  after removing the cwd from sys.path.\n",
            "/usr/local/lib/python3.6/dist-packages/ipykernel_launcher.py:5: DeprecationWarning: Call to deprecated function get_sheet_by_name (Use wb[sheetname]).\n",
            "  \"\"\"\n",
            "/usr/local/lib/python3.6/dist-packages/ipykernel_launcher.py:6: DeprecationWarning: Call to deprecated function get_sheet_by_name (Use wb[sheetname]).\n",
            "  \n",
            "/usr/local/lib/python3.6/dist-packages/ipykernel_launcher.py:7: DeprecationWarning: Call to deprecated function get_sheet_by_name (Use wb[sheetname]).\n",
            "  import sys\n",
            "/usr/local/lib/python3.6/dist-packages/ipykernel_launcher.py:8: DeprecationWarning: Call to deprecated function get_sheet_by_name (Use wb[sheetname]).\n",
            "  \n",
            "/usr/local/lib/python3.6/dist-packages/ipykernel_launcher.py:9: DeprecationWarning: Call to deprecated function get_sheet_by_name (Use wb[sheetname]).\n",
            "  if __name__ == '__main__':\n",
            "/usr/local/lib/python3.6/dist-packages/ipykernel_launcher.py:10: DeprecationWarning: Call to deprecated function get_sheet_by_name (Use wb[sheetname]).\n",
            "  # Remove the CWD from sys.path while we load stuff.\n"
          ],
          "name": "stderr"
        },
        {
          "output_type": "error",
          "ename": "KeyError",
          "evalue": "ignored",
          "traceback": [
            "\u001b[0;31m---------------------------------------------------------------------------\u001b[0m",
            "\u001b[0;31mKeyError\u001b[0m                                  Traceback (most recent call last)",
            "\u001b[0;32m<ipython-input-3-eb3308a4c0cc>\u001b[0m in \u001b[0;36m<module>\u001b[0;34m()\u001b[0m\n\u001b[1;32m      8\u001b[0m \u001b[0msheet_Jun\u001b[0m \u001b[0;34m=\u001b[0m \u001b[0mwb\u001b[0m\u001b[0;34m.\u001b[0m\u001b[0mget_sheet_by_name\u001b[0m\u001b[0;34m(\u001b[0m\u001b[0;34m'Jun'\u001b[0m\u001b[0;34m)\u001b[0m\u001b[0;34m\u001b[0m\u001b[0;34m\u001b[0m\u001b[0m\n\u001b[1;32m      9\u001b[0m \u001b[0msheet_Jul\u001b[0m \u001b[0;34m=\u001b[0m \u001b[0mwb\u001b[0m\u001b[0;34m.\u001b[0m\u001b[0mget_sheet_by_name\u001b[0m\u001b[0;34m(\u001b[0m\u001b[0;34m'Jul'\u001b[0m\u001b[0;34m)\u001b[0m\u001b[0;34m\u001b[0m\u001b[0;34m\u001b[0m\u001b[0m\n\u001b[0;32m---> 10\u001b[0;31m \u001b[0msheet_Ago\u001b[0m \u001b[0;34m=\u001b[0m \u001b[0mwb\u001b[0m\u001b[0;34m.\u001b[0m\u001b[0mget_sheet_by_name\u001b[0m\u001b[0;34m(\u001b[0m\u001b[0;34m'Ago'\u001b[0m\u001b[0;34m)\u001b[0m\u001b[0;34m\u001b[0m\u001b[0;34m\u001b[0m\u001b[0m\n\u001b[0m\u001b[1;32m     11\u001b[0m \u001b[0msheet_Set\u001b[0m \u001b[0;34m=\u001b[0m \u001b[0mwb\u001b[0m\u001b[0;34m.\u001b[0m\u001b[0mget_sheet_by_name\u001b[0m\u001b[0;34m(\u001b[0m\u001b[0;34m'Set'\u001b[0m\u001b[0;34m)\u001b[0m\u001b[0;34m\u001b[0m\u001b[0;34m\u001b[0m\u001b[0m\n\u001b[1;32m     12\u001b[0m \u001b[0msheet_Out\u001b[0m \u001b[0;34m=\u001b[0m \u001b[0mwb\u001b[0m\u001b[0;34m.\u001b[0m\u001b[0mget_sheet_by_name\u001b[0m\u001b[0;34m(\u001b[0m\u001b[0;34m'Out'\u001b[0m\u001b[0;34m)\u001b[0m\u001b[0;34m\u001b[0m\u001b[0;34m\u001b[0m\u001b[0m\n",
            "\u001b[0;32m/usr/local/lib/python3.6/dist-packages/openpyxl/compat/__init__.py\u001b[0m in \u001b[0;36mnew_func1\u001b[0;34m(*args, **kwargs)\u001b[0m\n\u001b[1;32m     36\u001b[0m                     \u001b[0mstacklevel\u001b[0m\u001b[0;34m=\u001b[0m\u001b[0;36m2\u001b[0m\u001b[0;34m\u001b[0m\u001b[0;34m\u001b[0m\u001b[0m\n\u001b[1;32m     37\u001b[0m                 )\n\u001b[0;32m---> 38\u001b[0;31m                 \u001b[0;32mreturn\u001b[0m \u001b[0mfunc1\u001b[0m\u001b[0;34m(\u001b[0m\u001b[0;34m*\u001b[0m\u001b[0margs\u001b[0m\u001b[0;34m,\u001b[0m \u001b[0;34m**\u001b[0m\u001b[0mkwargs\u001b[0m\u001b[0;34m)\u001b[0m\u001b[0;34m\u001b[0m\u001b[0;34m\u001b[0m\u001b[0m\n\u001b[0m\u001b[1;32m     39\u001b[0m \u001b[0;34m\u001b[0m\u001b[0m\n\u001b[1;32m     40\u001b[0m             \u001b[0;31m# Enhance docstring with a deprecation note\u001b[0m\u001b[0;34m\u001b[0m\u001b[0;34m\u001b[0m\u001b[0;34m\u001b[0m\u001b[0m\n",
            "\u001b[0;32m/usr/local/lib/python3.6/dist-packages/openpyxl/workbook/workbook.py\u001b[0m in \u001b[0;36mget_sheet_by_name\u001b[0;34m(self, name)\u001b[0m\n\u001b[1;32m    245\u001b[0m \u001b[0;34m\u001b[0m\u001b[0m\n\u001b[1;32m    246\u001b[0m         \"\"\"\n\u001b[0;32m--> 247\u001b[0;31m         \u001b[0;32mreturn\u001b[0m \u001b[0mself\u001b[0m\u001b[0;34m[\u001b[0m\u001b[0mname\u001b[0m\u001b[0;34m]\u001b[0m\u001b[0;34m\u001b[0m\u001b[0;34m\u001b[0m\u001b[0m\n\u001b[0m\u001b[1;32m    248\u001b[0m \u001b[0;34m\u001b[0m\u001b[0m\n\u001b[1;32m    249\u001b[0m     \u001b[0;32mdef\u001b[0m \u001b[0m__contains__\u001b[0m\u001b[0;34m(\u001b[0m\u001b[0mself\u001b[0m\u001b[0;34m,\u001b[0m \u001b[0mkey\u001b[0m\u001b[0;34m)\u001b[0m\u001b[0;34m:\u001b[0m\u001b[0;34m\u001b[0m\u001b[0;34m\u001b[0m\u001b[0m\n",
            "\u001b[0;32m/usr/local/lib/python3.6/dist-packages/openpyxl/workbook/workbook.py\u001b[0m in \u001b[0;36m__getitem__\u001b[0;34m(self, key)\u001b[0m\n\u001b[1;32m    271\u001b[0m             \u001b[0;32mif\u001b[0m \u001b[0msheet\u001b[0m\u001b[0;34m.\u001b[0m\u001b[0mtitle\u001b[0m \u001b[0;34m==\u001b[0m \u001b[0mkey\u001b[0m\u001b[0;34m:\u001b[0m\u001b[0;34m\u001b[0m\u001b[0;34m\u001b[0m\u001b[0m\n\u001b[1;32m    272\u001b[0m                 \u001b[0;32mreturn\u001b[0m \u001b[0msheet\u001b[0m\u001b[0;34m\u001b[0m\u001b[0;34m\u001b[0m\u001b[0m\n\u001b[0;32m--> 273\u001b[0;31m         \u001b[0;32mraise\u001b[0m \u001b[0mKeyError\u001b[0m\u001b[0;34m(\u001b[0m\u001b[0;34m\"Worksheet {0} does not exist.\"\u001b[0m\u001b[0;34m.\u001b[0m\u001b[0mformat\u001b[0m\u001b[0;34m(\u001b[0m\u001b[0mkey\u001b[0m\u001b[0;34m)\u001b[0m\u001b[0;34m)\u001b[0m\u001b[0;34m\u001b[0m\u001b[0;34m\u001b[0m\u001b[0m\n\u001b[0m\u001b[1;32m    274\u001b[0m \u001b[0;34m\u001b[0m\u001b[0m\n\u001b[1;32m    275\u001b[0m     \u001b[0;32mdef\u001b[0m \u001b[0m__delitem__\u001b[0m\u001b[0;34m(\u001b[0m\u001b[0mself\u001b[0m\u001b[0;34m,\u001b[0m \u001b[0mkey\u001b[0m\u001b[0;34m)\u001b[0m\u001b[0;34m:\u001b[0m\u001b[0;34m\u001b[0m\u001b[0;34m\u001b[0m\u001b[0m\n",
            "\u001b[0;31mKeyError\u001b[0m: 'Worksheet Ago does not exist.'"
          ]
        }
      ]
    },
    {
      "cell_type": "code",
      "metadata": {
        "colab": {
          "base_uri": "https://localhost:8080/",
          "height": 426
        },
        "id": "-oMMDcH54BaU",
        "outputId": "a8102e01-58db-4a6d-cefe-6854d0aaf1d8"
      },
      "source": [
        "# Lendo as categorias para as planilhas de Jan a Dez\r\n",
        "\r\n",
        "# Dicionário de variáveis\r\n",
        "\r\n",
        "## gastos_Jan = {} ---> criará um dicionário com a categoria (keys) e seu respectivo gasto (values) para Jan\r\n",
        "## categoria = [] ----> dicionário das categorias, retiradas direto da planilha Jan\r\n",
        "## gasto = [] --------> gasto de cada categoria em Jan\r\n",
        "## i = 0 -------------> contador de índices\r\n",
        "\r\n",
        "gastos_Jan = {} \r\n",
        "categoria_Jan = []\r\n",
        "gasto_Jan = [] \r\n",
        "i = 0 \r\n",
        "\r\n",
        "# realizando a iteração para ler as categorias e gastos respectivos, para o mês de Janeiro \r\n",
        "for row in sheet_Jan.iter_rows(min_row=34, max_row=46, min_col=20, max_col=21, values_only=True):\r\n",
        "  categoria_Jan.append(row[0])\r\n",
        "  gasto_Jan.append(row[1])\r\n",
        "  gastos_Jan[categoria_Jan[i]] = gasto_Jan[i]\r\n",
        "  i+=1\r\n",
        "\r\n",
        "# Criando o df para os gastos de Jan\r\n",
        "df_Jan = pd.DataFrame.from_dict(gastos_Jan, orient='index')\r\n",
        "df_Jan.columns = ['Jan']\r\n",
        "df_Jan"
      ],
      "execution_count": null,
      "outputs": [
        {
          "output_type": "execute_result",
          "data": {
            "text/html": [
              "<div>\n",
              "<style scoped>\n",
              "    .dataframe tbody tr th:only-of-type {\n",
              "        vertical-align: middle;\n",
              "    }\n",
              "\n",
              "    .dataframe tbody tr th {\n",
              "        vertical-align: top;\n",
              "    }\n",
              "\n",
              "    .dataframe thead th {\n",
              "        text-align: right;\n",
              "    }\n",
              "</style>\n",
              "<table border=\"1\" class=\"dataframe\">\n",
              "  <thead>\n",
              "    <tr style=\"text-align: right;\">\n",
              "      <th></th>\n",
              "      <th>Jan</th>\n",
              "    </tr>\n",
              "  </thead>\n",
              "  <tbody>\n",
              "    <tr>\n",
              "      <th>Alimentação</th>\n",
              "      <td>0.00</td>\n",
              "    </tr>\n",
              "    <tr>\n",
              "      <th>Transporte</th>\n",
              "      <td>0.00</td>\n",
              "    </tr>\n",
              "    <tr>\n",
              "      <th>Lazer</th>\n",
              "      <td>524.82</td>\n",
              "    </tr>\n",
              "    <tr>\n",
              "      <th>Mensais</th>\n",
              "      <td>1390.89</td>\n",
              "    </tr>\n",
              "    <tr>\n",
              "      <th>Jogos</th>\n",
              "      <td>49.81</td>\n",
              "    </tr>\n",
              "    <tr>\n",
              "      <th>Eletrônicos</th>\n",
              "      <td>165.92</td>\n",
              "    </tr>\n",
              "    <tr>\n",
              "      <th>Eletrodomésticos</th>\n",
              "      <td>160.23</td>\n",
              "    </tr>\n",
              "    <tr>\n",
              "      <th>Carro</th>\n",
              "      <td>504.68</td>\n",
              "    </tr>\n",
              "    <tr>\n",
              "      <th>Investimentos</th>\n",
              "      <td>0.00</td>\n",
              "    </tr>\n",
              "    <tr>\n",
              "      <th>Outros</th>\n",
              "      <td>136.53</td>\n",
              "    </tr>\n",
              "    <tr>\n",
              "      <th>Saúde</th>\n",
              "      <td>0.00</td>\n",
              "    </tr>\n",
              "    <tr>\n",
              "      <th>Educação</th>\n",
              "      <td>168.60</td>\n",
              "    </tr>\n",
              "    <tr>\n",
              "      <th>Móveis</th>\n",
              "      <td>369.06</td>\n",
              "    </tr>\n",
              "  </tbody>\n",
              "</table>\n",
              "</div>"
            ],
            "text/plain": [
              "                      Jan\n",
              "Alimentação          0.00\n",
              "Transporte           0.00\n",
              "Lazer              524.82\n",
              "Mensais           1390.89\n",
              "Jogos               49.81\n",
              "Eletrônicos        165.92\n",
              "Eletrodomésticos   160.23\n",
              "Carro              504.68\n",
              "Investimentos        0.00\n",
              "Outros             136.53\n",
              "Saúde                0.00\n",
              "Educação           168.60\n",
              "Móveis             369.06"
            ]
          },
          "metadata": {
            "tags": []
          },
          "execution_count": 4
        }
      ]
    },
    {
      "cell_type": "code",
      "metadata": {
        "id": "ep0_l50N2Z1T",
        "colab": {
          "base_uri": "https://localhost:8080/",
          "height": 426
        },
        "outputId": "c6e7ef84-49f7-4564-98ca-64964035de45"
      },
      "source": [
        "# gerando dicionário de df para Fev\r\n",
        "gastos_Fev = {} \r\n",
        "categoria_Fev = []\r\n",
        "gasto_Fev = [] \r\n",
        "i = 0 \r\n",
        "\r\n",
        "for row in sheet_Fev.iter_rows(min_row=34, max_row=46, min_col=20, max_col=21, values_only=True):\r\n",
        "  categoria_Fev.append(row[0])\r\n",
        "  gasto_Fev.append(row[1])\r\n",
        "  gastos_Fev[categoria_Fev[i]] = gasto_Fev[i]\r\n",
        "  i+=1\r\n",
        "\r\n",
        "df_Fev = pd.DataFrame.from_dict(gastos_Fev, orient='index')\r\n",
        "df_Fev.columns = ['Fev']\r\n",
        "df_Fev"
      ],
      "execution_count": null,
      "outputs": [
        {
          "output_type": "execute_result",
          "data": {
            "text/html": [
              "<div>\n",
              "<style scoped>\n",
              "    .dataframe tbody tr th:only-of-type {\n",
              "        vertical-align: middle;\n",
              "    }\n",
              "\n",
              "    .dataframe tbody tr th {\n",
              "        vertical-align: top;\n",
              "    }\n",
              "\n",
              "    .dataframe thead th {\n",
              "        text-align: right;\n",
              "    }\n",
              "</style>\n",
              "<table border=\"1\" class=\"dataframe\">\n",
              "  <thead>\n",
              "    <tr style=\"text-align: right;\">\n",
              "      <th></th>\n",
              "      <th>Fev</th>\n",
              "    </tr>\n",
              "  </thead>\n",
              "  <tbody>\n",
              "    <tr>\n",
              "      <th>Alimentação</th>\n",
              "      <td>0.00</td>\n",
              "    </tr>\n",
              "    <tr>\n",
              "      <th>Transporte</th>\n",
              "      <td>0.00</td>\n",
              "    </tr>\n",
              "    <tr>\n",
              "      <th>Lazer</th>\n",
              "      <td>350.28</td>\n",
              "    </tr>\n",
              "    <tr>\n",
              "      <th>Mensais</th>\n",
              "      <td>1508.62</td>\n",
              "    </tr>\n",
              "    <tr>\n",
              "      <th>Jogos</th>\n",
              "      <td>30.00</td>\n",
              "    </tr>\n",
              "    <tr>\n",
              "      <th>Eletrônicos</th>\n",
              "      <td>165.92</td>\n",
              "    </tr>\n",
              "    <tr>\n",
              "      <th>Eletrodomésticos</th>\n",
              "      <td>160.23</td>\n",
              "    </tr>\n",
              "    <tr>\n",
              "      <th>Carro</th>\n",
              "      <td>213.00</td>\n",
              "    </tr>\n",
              "    <tr>\n",
              "      <th>Investimentos</th>\n",
              "      <td>0.00</td>\n",
              "    </tr>\n",
              "    <tr>\n",
              "      <th>Outros</th>\n",
              "      <td>126.65</td>\n",
              "    </tr>\n",
              "    <tr>\n",
              "      <th>Saúde</th>\n",
              "      <td>0.00</td>\n",
              "    </tr>\n",
              "    <tr>\n",
              "      <th>Educação</th>\n",
              "      <td>172.74</td>\n",
              "    </tr>\n",
              "    <tr>\n",
              "      <th>Móveis</th>\n",
              "      <td>28.28</td>\n",
              "    </tr>\n",
              "  </tbody>\n",
              "</table>\n",
              "</div>"
            ],
            "text/plain": [
              "                      Fev\n",
              "Alimentação          0.00\n",
              "Transporte           0.00\n",
              "Lazer              350.28\n",
              "Mensais           1508.62\n",
              "Jogos               30.00\n",
              "Eletrônicos        165.92\n",
              "Eletrodomésticos   160.23\n",
              "Carro              213.00\n",
              "Investimentos        0.00\n",
              "Outros             126.65\n",
              "Saúde                0.00\n",
              "Educação           172.74\n",
              "Móveis              28.28"
            ]
          },
          "metadata": {
            "tags": []
          },
          "execution_count": 5
        }
      ]
    },
    {
      "cell_type": "code",
      "metadata": {
        "id": "xTly6VpxiB5c",
        "colab": {
          "base_uri": "https://localhost:8080/",
          "height": 426
        },
        "outputId": "b197ce16-eaa9-4ac6-f72b-b1a4e1258541"
      },
      "source": [
        "# gerando dicionário de df para Mar\r\n",
        "gastos_Mar = {} \r\n",
        "categoria_Mar = []\r\n",
        "gasto_Mar = [] \r\n",
        "i = 0 \r\n",
        "\r\n",
        "for row in sheet_Mar.iter_rows(min_row=34, max_row=46, min_col=20, max_col=21, values_only=True):\r\n",
        "  categoria_Mar.append(row[0])\r\n",
        "  gasto_Mar.append(row[1])\r\n",
        "  gastos_Mar[categoria_Mar[i]] = gasto_Mar[i]\r\n",
        "  i+=1\r\n",
        "\r\n",
        "df_Mar = pd.DataFrame.from_dict(gastos_Mar, orient='index')\r\n",
        "df_Mar.columns = ['Mar']\r\n",
        "df_Mar"
      ],
      "execution_count": null,
      "outputs": [
        {
          "output_type": "execute_result",
          "data": {
            "text/html": [
              "<div>\n",
              "<style scoped>\n",
              "    .dataframe tbody tr th:only-of-type {\n",
              "        vertical-align: middle;\n",
              "    }\n",
              "\n",
              "    .dataframe tbody tr th {\n",
              "        vertical-align: top;\n",
              "    }\n",
              "\n",
              "    .dataframe thead th {\n",
              "        text-align: right;\n",
              "    }\n",
              "</style>\n",
              "<table border=\"1\" class=\"dataframe\">\n",
              "  <thead>\n",
              "    <tr style=\"text-align: right;\">\n",
              "      <th></th>\n",
              "      <th>Mar</th>\n",
              "    </tr>\n",
              "  </thead>\n",
              "  <tbody>\n",
              "    <tr>\n",
              "      <th>Alimentação</th>\n",
              "      <td>0.00</td>\n",
              "    </tr>\n",
              "    <tr>\n",
              "      <th>Transporte</th>\n",
              "      <td>0.00</td>\n",
              "    </tr>\n",
              "    <tr>\n",
              "      <th>Lazer</th>\n",
              "      <td>128.32</td>\n",
              "    </tr>\n",
              "    <tr>\n",
              "      <th>Mensais</th>\n",
              "      <td>1417.41</td>\n",
              "    </tr>\n",
              "    <tr>\n",
              "      <th>Jogos</th>\n",
              "      <td>0.00</td>\n",
              "    </tr>\n",
              "    <tr>\n",
              "      <th>Eletrônicos</th>\n",
              "      <td>165.92</td>\n",
              "    </tr>\n",
              "    <tr>\n",
              "      <th>Eletrodomésticos</th>\n",
              "      <td>160.23</td>\n",
              "    </tr>\n",
              "    <tr>\n",
              "      <th>Carro</th>\n",
              "      <td>291.48</td>\n",
              "    </tr>\n",
              "    <tr>\n",
              "      <th>Investimentos</th>\n",
              "      <td>0.00</td>\n",
              "    </tr>\n",
              "    <tr>\n",
              "      <th>Outros</th>\n",
              "      <td>126.65</td>\n",
              "    </tr>\n",
              "    <tr>\n",
              "      <th>Saúde</th>\n",
              "      <td>0.00</td>\n",
              "    </tr>\n",
              "    <tr>\n",
              "      <th>Educação</th>\n",
              "      <td>85.34</td>\n",
              "    </tr>\n",
              "    <tr>\n",
              "      <th>Móveis</th>\n",
              "      <td>28.28</td>\n",
              "    </tr>\n",
              "  </tbody>\n",
              "</table>\n",
              "</div>"
            ],
            "text/plain": [
              "                      Mar\n",
              "Alimentação          0.00\n",
              "Transporte           0.00\n",
              "Lazer              128.32\n",
              "Mensais           1417.41\n",
              "Jogos                0.00\n",
              "Eletrônicos        165.92\n",
              "Eletrodomésticos   160.23\n",
              "Carro              291.48\n",
              "Investimentos        0.00\n",
              "Outros             126.65\n",
              "Saúde                0.00\n",
              "Educação            85.34\n",
              "Móveis              28.28"
            ]
          },
          "metadata": {
            "tags": []
          },
          "execution_count": 6
        }
      ]
    },
    {
      "cell_type": "code",
      "metadata": {
        "id": "9fv4r7poiDHM",
        "colab": {
          "base_uri": "https://localhost:8080/",
          "height": 426
        },
        "outputId": "16d26563-081d-4fd4-f543-d069a60ea7f4"
      },
      "source": [
        "# gerando dicionário de df para Abr\r\n",
        "gastos_Abr = {} \r\n",
        "categoria_Abr = []\r\n",
        "gasto_Abr = [] \r\n",
        "i = 0 \r\n",
        "\r\n",
        "for row in sheet_Abr.iter_rows(min_row=34, max_row=46, min_col=20, max_col=21, values_only=True):\r\n",
        "  categoria_Abr.append(row[0])\r\n",
        "  gasto_Abr.append(row[1])\r\n",
        "  gastos_Abr[categoria_Abr[i]] = gasto_Abr[i]\r\n",
        "  i+=1\r\n",
        "\r\n",
        "df_Abr = pd.DataFrame.from_dict(gastos_Abr, orient='index')\r\n",
        "df_Abr.columns = ['Abr']\r\n",
        "df_Abr"
      ],
      "execution_count": null,
      "outputs": [
        {
          "output_type": "execute_result",
          "data": {
            "text/html": [
              "<div>\n",
              "<style scoped>\n",
              "    .dataframe tbody tr th:only-of-type {\n",
              "        vertical-align: middle;\n",
              "    }\n",
              "\n",
              "    .dataframe tbody tr th {\n",
              "        vertical-align: top;\n",
              "    }\n",
              "\n",
              "    .dataframe thead th {\n",
              "        text-align: right;\n",
              "    }\n",
              "</style>\n",
              "<table border=\"1\" class=\"dataframe\">\n",
              "  <thead>\n",
              "    <tr style=\"text-align: right;\">\n",
              "      <th></th>\n",
              "      <th>Abr</th>\n",
              "    </tr>\n",
              "  </thead>\n",
              "  <tbody>\n",
              "    <tr>\n",
              "      <th>Alimentação</th>\n",
              "      <td>0.00</td>\n",
              "    </tr>\n",
              "    <tr>\n",
              "      <th>Transporte</th>\n",
              "      <td>0.00</td>\n",
              "    </tr>\n",
              "    <tr>\n",
              "      <th>Lazer</th>\n",
              "      <td>55.80</td>\n",
              "    </tr>\n",
              "    <tr>\n",
              "      <th>Mensais</th>\n",
              "      <td>1417.41</td>\n",
              "    </tr>\n",
              "    <tr>\n",
              "      <th>Jogos</th>\n",
              "      <td>0.00</td>\n",
              "    </tr>\n",
              "    <tr>\n",
              "      <th>Eletrônicos</th>\n",
              "      <td>134.64</td>\n",
              "    </tr>\n",
              "    <tr>\n",
              "      <th>Eletrodomésticos</th>\n",
              "      <td>117.74</td>\n",
              "    </tr>\n",
              "    <tr>\n",
              "      <th>Carro</th>\n",
              "      <td>291.48</td>\n",
              "    </tr>\n",
              "    <tr>\n",
              "      <th>Investimentos</th>\n",
              "      <td>0.00</td>\n",
              "    </tr>\n",
              "    <tr>\n",
              "      <th>Outros</th>\n",
              "      <td>126.65</td>\n",
              "    </tr>\n",
              "    <tr>\n",
              "      <th>Saúde</th>\n",
              "      <td>0.00</td>\n",
              "    </tr>\n",
              "    <tr>\n",
              "      <th>Educação</th>\n",
              "      <td>32.33</td>\n",
              "    </tr>\n",
              "    <tr>\n",
              "      <th>Móveis</th>\n",
              "      <td>0.00</td>\n",
              "    </tr>\n",
              "  </tbody>\n",
              "</table>\n",
              "</div>"
            ],
            "text/plain": [
              "                      Abr\n",
              "Alimentação          0.00\n",
              "Transporte           0.00\n",
              "Lazer               55.80\n",
              "Mensais           1417.41\n",
              "Jogos                0.00\n",
              "Eletrônicos        134.64\n",
              "Eletrodomésticos   117.74\n",
              "Carro              291.48\n",
              "Investimentos        0.00\n",
              "Outros             126.65\n",
              "Saúde                0.00\n",
              "Educação            32.33\n",
              "Móveis               0.00"
            ]
          },
          "metadata": {
            "tags": []
          },
          "execution_count": 7
        }
      ]
    },
    {
      "cell_type": "code",
      "metadata": {
        "id": "uMGz0MyNiHUD",
        "colab": {
          "base_uri": "https://localhost:8080/",
          "height": 426
        },
        "outputId": "ec6ca036-70dc-48d8-f3e1-ffe50ad00101"
      },
      "source": [
        "# gerando dicionário de df para Mai\r\n",
        "gastos_Mai = {} \r\n",
        "categoria_Mai = []\r\n",
        "gasto_Mai = [] \r\n",
        "i = 0 \r\n",
        "\r\n",
        "for row in sheet_Mai.iter_rows(min_row=34, max_row=46, min_col=20, max_col=21, values_only=True):\r\n",
        "  categoria_Mai.append(row[0])\r\n",
        "  gasto_Mai.append(row[1])\r\n",
        "  gastos_Mai[categoria_Mai[i]] = gasto_Mai[i]\r\n",
        "  i+=1\r\n",
        "\r\n",
        "df_Mai = pd.DataFrame.from_dict(gastos_Mai, orient='index')\r\n",
        "df_Mai.columns = ['Mai']\r\n",
        "df_Mai"
      ],
      "execution_count": null,
      "outputs": [
        {
          "output_type": "execute_result",
          "data": {
            "text/html": [
              "<div>\n",
              "<style scoped>\n",
              "    .dataframe tbody tr th:only-of-type {\n",
              "        vertical-align: middle;\n",
              "    }\n",
              "\n",
              "    .dataframe tbody tr th {\n",
              "        vertical-align: top;\n",
              "    }\n",
              "\n",
              "    .dataframe thead th {\n",
              "        text-align: right;\n",
              "    }\n",
              "</style>\n",
              "<table border=\"1\" class=\"dataframe\">\n",
              "  <thead>\n",
              "    <tr style=\"text-align: right;\">\n",
              "      <th></th>\n",
              "      <th>Mai</th>\n",
              "    </tr>\n",
              "  </thead>\n",
              "  <tbody>\n",
              "    <tr>\n",
              "      <th>Alimentação</th>\n",
              "      <td>0.00</td>\n",
              "    </tr>\n",
              "    <tr>\n",
              "      <th>Transporte</th>\n",
              "      <td>0.00</td>\n",
              "    </tr>\n",
              "    <tr>\n",
              "      <th>Lazer</th>\n",
              "      <td>55.80</td>\n",
              "    </tr>\n",
              "    <tr>\n",
              "      <th>Mensais</th>\n",
              "      <td>0.00</td>\n",
              "    </tr>\n",
              "    <tr>\n",
              "      <th>Jogos</th>\n",
              "      <td>0.00</td>\n",
              "    </tr>\n",
              "    <tr>\n",
              "      <th>Eletrônicos</th>\n",
              "      <td>134.64</td>\n",
              "    </tr>\n",
              "    <tr>\n",
              "      <th>Eletrodomésticos</th>\n",
              "      <td>117.74</td>\n",
              "    </tr>\n",
              "    <tr>\n",
              "      <th>Carro</th>\n",
              "      <td>291.48</td>\n",
              "    </tr>\n",
              "    <tr>\n",
              "      <th>Investimentos</th>\n",
              "      <td>0.00</td>\n",
              "    </tr>\n",
              "    <tr>\n",
              "      <th>Outros</th>\n",
              "      <td>111.66</td>\n",
              "    </tr>\n",
              "    <tr>\n",
              "      <th>Saúde</th>\n",
              "      <td>0.00</td>\n",
              "    </tr>\n",
              "    <tr>\n",
              "      <th>Educação</th>\n",
              "      <td>0.00</td>\n",
              "    </tr>\n",
              "    <tr>\n",
              "      <th>Móveis</th>\n",
              "      <td>0.00</td>\n",
              "    </tr>\n",
              "  </tbody>\n",
              "</table>\n",
              "</div>"
            ],
            "text/plain": [
              "                     Mai\n",
              "Alimentação         0.00\n",
              "Transporte          0.00\n",
              "Lazer              55.80\n",
              "Mensais             0.00\n",
              "Jogos               0.00\n",
              "Eletrônicos       134.64\n",
              "Eletrodomésticos  117.74\n",
              "Carro             291.48\n",
              "Investimentos       0.00\n",
              "Outros            111.66\n",
              "Saúde               0.00\n",
              "Educação            0.00\n",
              "Móveis              0.00"
            ]
          },
          "metadata": {
            "tags": []
          },
          "execution_count": 8
        }
      ]
    },
    {
      "cell_type": "code",
      "metadata": {
        "id": "JeF8zQcLk7va",
        "colab": {
          "base_uri": "https://localhost:8080/",
          "height": 426
        },
        "outputId": "9d6be3b4-4f23-401e-c112-339520307a5c"
      },
      "source": [
        "# gerando dicionário de df para Jun\r\n",
        "gastos_Jun = {} \r\n",
        "categoria_Jun = []\r\n",
        "gasto_Jun = [] \r\n",
        "i = 0 \r\n",
        "\r\n",
        "for row in sheet_Jun.iter_rows(min_row=34, max_row=46, min_col=20, max_col=21, values_only=True):\r\n",
        "  categoria_Jun.append(row[0])\r\n",
        "  gasto_Jun.append(row[1])\r\n",
        "  gastos_Jun[categoria_Jun[i]] = gasto_Jun[i]\r\n",
        "  i+=1\r\n",
        "\r\n",
        "df_Jun = pd.DataFrame.from_dict(gastos_Jun, orient='index')\r\n",
        "df_Jun.columns = ['Jun']\r\n",
        "df_Jun\r\n"
      ],
      "execution_count": null,
      "outputs": [
        {
          "output_type": "execute_result",
          "data": {
            "text/html": [
              "<div>\n",
              "<style scoped>\n",
              "    .dataframe tbody tr th:only-of-type {\n",
              "        vertical-align: middle;\n",
              "    }\n",
              "\n",
              "    .dataframe tbody tr th {\n",
              "        vertical-align: top;\n",
              "    }\n",
              "\n",
              "    .dataframe thead th {\n",
              "        text-align: right;\n",
              "    }\n",
              "</style>\n",
              "<table border=\"1\" class=\"dataframe\">\n",
              "  <thead>\n",
              "    <tr style=\"text-align: right;\">\n",
              "      <th></th>\n",
              "      <th>Jun</th>\n",
              "    </tr>\n",
              "  </thead>\n",
              "  <tbody>\n",
              "    <tr>\n",
              "      <th>Alimentação</th>\n",
              "      <td>0.00</td>\n",
              "    </tr>\n",
              "    <tr>\n",
              "      <th>Transporte</th>\n",
              "      <td>0.00</td>\n",
              "    </tr>\n",
              "    <tr>\n",
              "      <th>Lazer</th>\n",
              "      <td>55.80</td>\n",
              "    </tr>\n",
              "    <tr>\n",
              "      <th>Mensais</th>\n",
              "      <td>0.00</td>\n",
              "    </tr>\n",
              "    <tr>\n",
              "      <th>Jogos</th>\n",
              "      <td>0.00</td>\n",
              "    </tr>\n",
              "    <tr>\n",
              "      <th>Eletrônicos</th>\n",
              "      <td>134.64</td>\n",
              "    </tr>\n",
              "    <tr>\n",
              "      <th>Eletrodomésticos</th>\n",
              "      <td>117.74</td>\n",
              "    </tr>\n",
              "    <tr>\n",
              "      <th>Carro</th>\n",
              "      <td>291.48</td>\n",
              "    </tr>\n",
              "    <tr>\n",
              "      <th>Investimentos</th>\n",
              "      <td>0.00</td>\n",
              "    </tr>\n",
              "    <tr>\n",
              "      <th>Outros</th>\n",
              "      <td>111.66</td>\n",
              "    </tr>\n",
              "    <tr>\n",
              "      <th>Saúde</th>\n",
              "      <td>0.00</td>\n",
              "    </tr>\n",
              "    <tr>\n",
              "      <th>Educação</th>\n",
              "      <td>0.00</td>\n",
              "    </tr>\n",
              "    <tr>\n",
              "      <th>Móveis</th>\n",
              "      <td>0.00</td>\n",
              "    </tr>\n",
              "  </tbody>\n",
              "</table>\n",
              "</div>"
            ],
            "text/plain": [
              "                     Jun\n",
              "Alimentação         0.00\n",
              "Transporte          0.00\n",
              "Lazer              55.80\n",
              "Mensais             0.00\n",
              "Jogos               0.00\n",
              "Eletrônicos       134.64\n",
              "Eletrodomésticos  117.74\n",
              "Carro             291.48\n",
              "Investimentos       0.00\n",
              "Outros            111.66\n",
              "Saúde               0.00\n",
              "Educação            0.00\n",
              "Móveis              0.00"
            ]
          },
          "metadata": {
            "tags": []
          },
          "execution_count": 9
        }
      ]
    },
    {
      "cell_type": "code",
      "metadata": {
        "id": "4FHWob-oia9M",
        "colab": {
          "base_uri": "https://localhost:8080/",
          "height": 426
        },
        "outputId": "ee39cdf0-7a56-4224-e137-869d06ac2527"
      },
      "source": [
        "# gerando dicionário de df para Jul\r\n",
        "gastos_Jul = {} \r\n",
        "categoria_Jul = []\r\n",
        "gasto_Jul = [] \r\n",
        "i = 0 \r\n",
        "\r\n",
        "for row in sheet_Jul.iter_rows(min_row=34, max_row=46, min_col=20, max_col=21, values_only=True):\r\n",
        "  categoria_Jul.append(row[0])\r\n",
        "  gasto_Jul.append(row[1])\r\n",
        "  gastos_Jul[categoria_Jul[i]] = gasto_Jul[i]\r\n",
        "  i+=1\r\n",
        "\r\n",
        "df_Jul = pd.DataFrame.from_dict(gastos_Jul, orient='index')\r\n",
        "df_Jul.columns = ['Jul']\r\n",
        "df_Jul\r\n"
      ],
      "execution_count": null,
      "outputs": [
        {
          "output_type": "execute_result",
          "data": {
            "text/html": [
              "<div>\n",
              "<style scoped>\n",
              "    .dataframe tbody tr th:only-of-type {\n",
              "        vertical-align: middle;\n",
              "    }\n",
              "\n",
              "    .dataframe tbody tr th {\n",
              "        vertical-align: top;\n",
              "    }\n",
              "\n",
              "    .dataframe thead th {\n",
              "        text-align: right;\n",
              "    }\n",
              "</style>\n",
              "<table border=\"1\" class=\"dataframe\">\n",
              "  <thead>\n",
              "    <tr style=\"text-align: right;\">\n",
              "      <th></th>\n",
              "      <th>Jul</th>\n",
              "    </tr>\n",
              "  </thead>\n",
              "  <tbody>\n",
              "    <tr>\n",
              "      <th>Alimentação</th>\n",
              "      <td>0.00</td>\n",
              "    </tr>\n",
              "    <tr>\n",
              "      <th>Transporte</th>\n",
              "      <td>0.00</td>\n",
              "    </tr>\n",
              "    <tr>\n",
              "      <th>Lazer</th>\n",
              "      <td>55.80</td>\n",
              "    </tr>\n",
              "    <tr>\n",
              "      <th>Mensais</th>\n",
              "      <td>0.00</td>\n",
              "    </tr>\n",
              "    <tr>\n",
              "      <th>Jogos</th>\n",
              "      <td>0.00</td>\n",
              "    </tr>\n",
              "    <tr>\n",
              "      <th>Eletrônicos</th>\n",
              "      <td>134.64</td>\n",
              "    </tr>\n",
              "    <tr>\n",
              "      <th>Eletrodomésticos</th>\n",
              "      <td>117.74</td>\n",
              "    </tr>\n",
              "    <tr>\n",
              "      <th>Carro</th>\n",
              "      <td>291.48</td>\n",
              "    </tr>\n",
              "    <tr>\n",
              "      <th>Investimentos</th>\n",
              "      <td>0.00</td>\n",
              "    </tr>\n",
              "    <tr>\n",
              "      <th>Outros</th>\n",
              "      <td>0.00</td>\n",
              "    </tr>\n",
              "    <tr>\n",
              "      <th>Saúde</th>\n",
              "      <td>0.00</td>\n",
              "    </tr>\n",
              "    <tr>\n",
              "      <th>Educação</th>\n",
              "      <td>0.00</td>\n",
              "    </tr>\n",
              "    <tr>\n",
              "      <th>Móveis</th>\n",
              "      <td>0.00</td>\n",
              "    </tr>\n",
              "  </tbody>\n",
              "</table>\n",
              "</div>"
            ],
            "text/plain": [
              "                     Jul\n",
              "Alimentação         0.00\n",
              "Transporte          0.00\n",
              "Lazer              55.80\n",
              "Mensais             0.00\n",
              "Jogos               0.00\n",
              "Eletrônicos       134.64\n",
              "Eletrodomésticos  117.74\n",
              "Carro             291.48\n",
              "Investimentos       0.00\n",
              "Outros              0.00\n",
              "Saúde               0.00\n",
              "Educação            0.00\n",
              "Móveis              0.00"
            ]
          },
          "metadata": {
            "tags": []
          },
          "execution_count": 10
        }
      ]
    },
    {
      "cell_type": "code",
      "metadata": {
        "id": "nqUKJjFlid2M"
      },
      "source": [
        "# gerando dicionário de df para Ago\r\n",
        "gastos_Ago = {} \r\n",
        "categoria_Ago = []\r\n",
        "gasto_Ago = [] \r\n",
        "i = 0 \r\n",
        "\r\n",
        "for row in sheet_Ago.iter_rows(min_row=34, max_row=46, min_col=20, max_col=21, values_only=True):\r\n",
        "  categoria_Ago.append(row[0])\r\n",
        "  gasto_Ago.append(row[1])\r\n",
        "  gastos_Ago[categoria_Ago[i]] = gasto_Ago[i]\r\n",
        "  i+=1\r\n",
        "\r\n",
        "df_Ago = pd.DataFrame.from_dict(gastos_Ago, orient='index')\r\n",
        "df_Ago.columns = ['Ago']\r\n",
        "df_Ago"
      ],
      "execution_count": null,
      "outputs": []
    },
    {
      "cell_type": "code",
      "metadata": {
        "id": "DKppFanSiiLU"
      },
      "source": [
        "# gerando dicionário de df para Set\r\n",
        "gastos_Set = {} \r\n",
        "categoria_Set = []\r\n",
        "gasto_Set = [] \r\n",
        "i = 0 \r\n",
        "\r\n",
        "for row in sheet_Set.iter_rows(min_row=34, max_row=46, min_col=20, max_col=21, values_only=True):\r\n",
        "  categoria_Set.append(row[0])\r\n",
        "  gasto_Set.append(row[1])\r\n",
        "  gastos_Set[categoria_Set[i]] = gasto_Set[i]\r\n",
        "  i+=1\r\n",
        "\r\n",
        "df_Set = pd.DataFrame.from_dict(gastos_Set, orient='index')\r\n",
        "df_Set.columns = ['Set']\r\n",
        "df_Set"
      ],
      "execution_count": null,
      "outputs": []
    },
    {
      "cell_type": "code",
      "metadata": {
        "id": "HZVHrnGzijRk"
      },
      "source": [
        "# gerando dicionário de df para Out\r\n",
        "gastos_Out = {} \r\n",
        "categoria_Out = []\r\n",
        "gasto_Out = [] \r\n",
        "i = 0 \r\n",
        "\r\n",
        "for row in sheet_Out.iter_rows(min_row=34, max_row=46, min_col=20, max_col=21, values_only=True):\r\n",
        "  categoria_Out.append(row[0])\r\n",
        "  gasto_Out.append(row[1])\r\n",
        "  gastos_Out[categoria_Out[i]] = gasto_Out[i]\r\n",
        "  i+=1\r\n",
        "\r\n",
        "df_Out = pd.DataFrame.from_dict(gastos_Out, orient='index')\r\n",
        "df_Out.columns = ['Out']\r\n",
        "df_Out\r\n"
      ],
      "execution_count": null,
      "outputs": []
    },
    {
      "cell_type": "code",
      "metadata": {
        "id": "2p_uB2EqimN9"
      },
      "source": [
        "# gerando dicionário de df para Nov\r\n",
        "gastos_Nov = {} \r\n",
        "categoria_Nov = []\r\n",
        "gasto_Nov = [] \r\n",
        "i = 0 \r\n",
        "\r\n",
        "for row in sheet_Nov.iter_rows(min_row=34, max_row=46, min_col=20, max_col=21, values_only=True):\r\n",
        "  categoria_Nov.append(row[0])\r\n",
        "  gasto_Nov.append(row[1])\r\n",
        "  gastos_Nov[categoria_Nov[i]] = gasto_Nov[i]\r\n",
        "  i+=1\r\n",
        "\r\n",
        "df_Nov = pd.DataFrame.from_dict(gastos_Nov, orient='index')\r\n",
        "df_Nov.columns = ['Nov']\r\n",
        "df_Nov"
      ],
      "execution_count": null,
      "outputs": []
    },
    {
      "cell_type": "code",
      "metadata": {
        "id": "MyR5r6nQiqbM"
      },
      "source": [
        "# gerando dicionário de df para Dez\r\n",
        "gastos_Dez = {} \r\n",
        "categoria_Dez = []\r\n",
        "gasto_Dez = [] \r\n",
        "i = 0 \r\n",
        "\r\n",
        "for row in sheet_Dez.iter_rows(min_row=34, max_row=46, min_col=20, max_col=21, values_only=True):\r\n",
        "  categoria_Dez.append(row[0])\r\n",
        "  gasto_Dez.append(row[1])\r\n",
        "  gastos_Dez[categoria_Dez[i]] = gasto_Dez[i]\r\n",
        "  i+=1\r\n",
        "\r\n",
        "df_Dez = pd.DataFrame.from_dict(gastos_Dez, orient='index')\r\n",
        "df_Dez.columns = ['Dez']\r\n",
        "df_Dez"
      ],
      "execution_count": null,
      "outputs": []
    },
    {
      "cell_type": "code",
      "metadata": {
        "colab": {
          "base_uri": "https://localhost:8080/",
          "height": 228
        },
        "id": "2cyWc06ijU91",
        "outputId": "9d851d23-05f2-4399-92d7-c720985a2de6"
      },
      "source": [
        "# Unindo os dfs. Aqui, acrescentaremos dos dataframes de Fev a Dez ao dataframe de Jan\r\n",
        "df_Jan.insert(1,'Fev',df_Fev)\r\n",
        "df_Jan.insert(2,'Mar',df_Mar)\r\n",
        "df_Jan.insert(3,'Abr',df_Abr)\r\n",
        "df_Jan.insert(4,'Mai',df_Mai)\r\n",
        "df_Jan.insert(5,'Jun',df_Jun)\r\n",
        "df_Jan.insert(6,'Jul',df_Jun)\r\n",
        "df_Jan.insert(7,'Ago',df_Ago)\r\n",
        "df_Jan.insert(8,'Set',df_Set)\r\n",
        "df_Jan.insert(9,'Out',df_Out)\r\n",
        "df_Jan.insert(10,'Nov',df_Nov)\r\n",
        "df_Jan.insert(11,'Dez',df_Dez)\r\n",
        "\r\n",
        "# Visualização do dataframe\r\n",
        "df_Jan"
      ],
      "execution_count": null,
      "outputs": [
        {
          "output_type": "error",
          "ename": "NameError",
          "evalue": "ignored",
          "traceback": [
            "\u001b[0;31m---------------------------------------------------------------------------\u001b[0m",
            "\u001b[0;31mNameError\u001b[0m                                 Traceback (most recent call last)",
            "\u001b[0;32m<ipython-input-11-0651f1f4cdb3>\u001b[0m in \u001b[0;36m<module>\u001b[0;34m()\u001b[0m\n\u001b[1;32m      6\u001b[0m \u001b[0mdf_Jan\u001b[0m\u001b[0;34m.\u001b[0m\u001b[0minsert\u001b[0m\u001b[0;34m(\u001b[0m\u001b[0;36m5\u001b[0m\u001b[0;34m,\u001b[0m\u001b[0;34m'Jun'\u001b[0m\u001b[0;34m,\u001b[0m\u001b[0mdf_Jun\u001b[0m\u001b[0;34m)\u001b[0m\u001b[0;34m\u001b[0m\u001b[0;34m\u001b[0m\u001b[0m\n\u001b[1;32m      7\u001b[0m \u001b[0mdf_Jan\u001b[0m\u001b[0;34m.\u001b[0m\u001b[0minsert\u001b[0m\u001b[0;34m(\u001b[0m\u001b[0;36m6\u001b[0m\u001b[0;34m,\u001b[0m\u001b[0;34m'Jul'\u001b[0m\u001b[0;34m,\u001b[0m\u001b[0mdf_Jun\u001b[0m\u001b[0;34m)\u001b[0m\u001b[0;34m\u001b[0m\u001b[0;34m\u001b[0m\u001b[0m\n\u001b[0;32m----> 8\u001b[0;31m \u001b[0mdf_Jan\u001b[0m\u001b[0;34m.\u001b[0m\u001b[0minsert\u001b[0m\u001b[0;34m(\u001b[0m\u001b[0;36m7\u001b[0m\u001b[0;34m,\u001b[0m\u001b[0;34m'Ago'\u001b[0m\u001b[0;34m,\u001b[0m\u001b[0mdf_Ago\u001b[0m\u001b[0;34m)\u001b[0m\u001b[0;34m\u001b[0m\u001b[0;34m\u001b[0m\u001b[0m\n\u001b[0m\u001b[1;32m      9\u001b[0m \u001b[0mdf_Jan\u001b[0m\u001b[0;34m.\u001b[0m\u001b[0minsert\u001b[0m\u001b[0;34m(\u001b[0m\u001b[0;36m8\u001b[0m\u001b[0;34m,\u001b[0m\u001b[0;34m'Set'\u001b[0m\u001b[0;34m,\u001b[0m\u001b[0mdf_Set\u001b[0m\u001b[0;34m)\u001b[0m\u001b[0;34m\u001b[0m\u001b[0;34m\u001b[0m\u001b[0m\n\u001b[1;32m     10\u001b[0m \u001b[0mdf_Jan\u001b[0m\u001b[0;34m.\u001b[0m\u001b[0minsert\u001b[0m\u001b[0;34m(\u001b[0m\u001b[0;36m9\u001b[0m\u001b[0;34m,\u001b[0m\u001b[0;34m'Out'\u001b[0m\u001b[0;34m,\u001b[0m\u001b[0mdf_Out\u001b[0m\u001b[0;34m)\u001b[0m\u001b[0;34m\u001b[0m\u001b[0;34m\u001b[0m\u001b[0m\n",
            "\u001b[0;31mNameError\u001b[0m: name 'df_Ago' is not defined"
          ]
        }
      ]
    },
    {
      "cell_type": "code",
      "metadata": {
        "id": "_dTvbXevI7oc",
        "colab": {
          "base_uri": "https://localhost:8080/",
          "height": 251
        },
        "outputId": "8ebdfe33-46fb-4e1d-d3b1-3b79008ca8b1"
      },
      "source": [
        "# deixando o df em uma forma favorável à geração do gráfico de barras\r\n",
        "df_Jan = df_Jan.T\r\n",
        "df_Jan"
      ],
      "execution_count": null,
      "outputs": [
        {
          "output_type": "execute_result",
          "data": {
            "text/html": [
              "<div>\n",
              "<style scoped>\n",
              "    .dataframe tbody tr th:only-of-type {\n",
              "        vertical-align: middle;\n",
              "    }\n",
              "\n",
              "    .dataframe tbody tr th {\n",
              "        vertical-align: top;\n",
              "    }\n",
              "\n",
              "    .dataframe thead th {\n",
              "        text-align: right;\n",
              "    }\n",
              "</style>\n",
              "<table border=\"1\" class=\"dataframe\">\n",
              "  <thead>\n",
              "    <tr style=\"text-align: right;\">\n",
              "      <th></th>\n",
              "      <th>Alimentação</th>\n",
              "      <th>Transporte</th>\n",
              "      <th>Lazer</th>\n",
              "      <th>Mensais</th>\n",
              "      <th>Jogos</th>\n",
              "      <th>Eletrônicos</th>\n",
              "      <th>Eletrodomésticos</th>\n",
              "      <th>Carro</th>\n",
              "      <th>Investimentos</th>\n",
              "      <th>Outros</th>\n",
              "      <th>Saúde</th>\n",
              "      <th>Educação</th>\n",
              "      <th>Móveis</th>\n",
              "    </tr>\n",
              "  </thead>\n",
              "  <tbody>\n",
              "    <tr>\n",
              "      <th>Jan</th>\n",
              "      <td>0.0</td>\n",
              "      <td>0.0</td>\n",
              "      <td>524.82</td>\n",
              "      <td>1390.89</td>\n",
              "      <td>49.81</td>\n",
              "      <td>165.92</td>\n",
              "      <td>160.23</td>\n",
              "      <td>504.68</td>\n",
              "      <td>0.0</td>\n",
              "      <td>136.53</td>\n",
              "      <td>0.0</td>\n",
              "      <td>168.60</td>\n",
              "      <td>369.06</td>\n",
              "    </tr>\n",
              "    <tr>\n",
              "      <th>Fev</th>\n",
              "      <td>0.0</td>\n",
              "      <td>0.0</td>\n",
              "      <td>350.28</td>\n",
              "      <td>1508.62</td>\n",
              "      <td>30.00</td>\n",
              "      <td>165.92</td>\n",
              "      <td>160.23</td>\n",
              "      <td>213.00</td>\n",
              "      <td>0.0</td>\n",
              "      <td>126.65</td>\n",
              "      <td>0.0</td>\n",
              "      <td>172.74</td>\n",
              "      <td>28.28</td>\n",
              "    </tr>\n",
              "    <tr>\n",
              "      <th>Mar</th>\n",
              "      <td>0.0</td>\n",
              "      <td>0.0</td>\n",
              "      <td>128.32</td>\n",
              "      <td>1417.41</td>\n",
              "      <td>0.00</td>\n",
              "      <td>165.92</td>\n",
              "      <td>160.23</td>\n",
              "      <td>291.48</td>\n",
              "      <td>0.0</td>\n",
              "      <td>126.65</td>\n",
              "      <td>0.0</td>\n",
              "      <td>85.34</td>\n",
              "      <td>28.28</td>\n",
              "    </tr>\n",
              "    <tr>\n",
              "      <th>Abr</th>\n",
              "      <td>0.0</td>\n",
              "      <td>0.0</td>\n",
              "      <td>55.80</td>\n",
              "      <td>1417.41</td>\n",
              "      <td>0.00</td>\n",
              "      <td>134.64</td>\n",
              "      <td>117.74</td>\n",
              "      <td>291.48</td>\n",
              "      <td>0.0</td>\n",
              "      <td>126.65</td>\n",
              "      <td>0.0</td>\n",
              "      <td>32.33</td>\n",
              "      <td>0.00</td>\n",
              "    </tr>\n",
              "    <tr>\n",
              "      <th>Mai</th>\n",
              "      <td>0.0</td>\n",
              "      <td>0.0</td>\n",
              "      <td>55.80</td>\n",
              "      <td>0.00</td>\n",
              "      <td>0.00</td>\n",
              "      <td>134.64</td>\n",
              "      <td>117.74</td>\n",
              "      <td>291.48</td>\n",
              "      <td>0.0</td>\n",
              "      <td>111.66</td>\n",
              "      <td>0.0</td>\n",
              "      <td>0.00</td>\n",
              "      <td>0.00</td>\n",
              "    </tr>\n",
              "    <tr>\n",
              "      <th>Jun</th>\n",
              "      <td>0.0</td>\n",
              "      <td>0.0</td>\n",
              "      <td>55.80</td>\n",
              "      <td>0.00</td>\n",
              "      <td>0.00</td>\n",
              "      <td>134.64</td>\n",
              "      <td>117.74</td>\n",
              "      <td>291.48</td>\n",
              "      <td>0.0</td>\n",
              "      <td>111.66</td>\n",
              "      <td>0.0</td>\n",
              "      <td>0.00</td>\n",
              "      <td>0.00</td>\n",
              "    </tr>\n",
              "    <tr>\n",
              "      <th>Jul</th>\n",
              "      <td>0.0</td>\n",
              "      <td>0.0</td>\n",
              "      <td>55.80</td>\n",
              "      <td>0.00</td>\n",
              "      <td>0.00</td>\n",
              "      <td>134.64</td>\n",
              "      <td>117.74</td>\n",
              "      <td>291.48</td>\n",
              "      <td>0.0</td>\n",
              "      <td>111.66</td>\n",
              "      <td>0.0</td>\n",
              "      <td>0.00</td>\n",
              "      <td>0.00</td>\n",
              "    </tr>\n",
              "  </tbody>\n",
              "</table>\n",
              "</div>"
            ],
            "text/plain": [
              "     Alimentação  Transporte   Lazer  Mensais  ...  Outros  Saúde  Educação  Móveis\n",
              "Jan          0.0         0.0  524.82  1390.89  ...  136.53    0.0    168.60  369.06\n",
              "Fev          0.0         0.0  350.28  1508.62  ...  126.65    0.0    172.74   28.28\n",
              "Mar          0.0         0.0  128.32  1417.41  ...  126.65    0.0     85.34   28.28\n",
              "Abr          0.0         0.0   55.80  1417.41  ...  126.65    0.0     32.33    0.00\n",
              "Mai          0.0         0.0   55.80     0.00  ...  111.66    0.0      0.00    0.00\n",
              "Jun          0.0         0.0   55.80     0.00  ...  111.66    0.0      0.00    0.00\n",
              "Jul          0.0         0.0   55.80     0.00  ...  111.66    0.0      0.00    0.00\n",
              "\n",
              "[7 rows x 13 columns]"
            ]
          },
          "metadata": {
            "tags": []
          },
          "execution_count": 14
        }
      ]
    },
    {
      "cell_type": "code",
      "metadata": {
        "colab": {
          "base_uri": "https://localhost:8080/",
          "height": 584
        },
        "id": "e5Bahc_aJZBC",
        "outputId": "25671e85-ae90-47c3-857a-1dcdb9b81551"
      },
      "source": [
        "# Gerando o gráfico de barras com os gastos na categoria Lazer em 2020\r\n",
        "\r\n",
        "fig, ax = plt.subplots(figsize=(12,8))\r\n",
        "sns.barplot(x=df_Jan.index, y=df_Jan['Lazer'], data=df_Jan, palette='Dark2')\r\n",
        "ax.text(2, 400, \"Total: R$ {}\".format(round(df_Jan['Lazer'].sum(), 2)), size=22, bbox=dict(boxstyle='square, pad=0.25',fc = 'white', ec='b', lw=1))\r\n",
        "ax.set_title('Gastos com Lazer em 2020', fontdict={'fontsize':15})\r\n",
        "\r\n",
        "# Anotando o valor gasto em Lazer para cada mês, diretamente no gráfico\r\n",
        "i=0\r\n",
        "while i < df_Jan.shape[0]:\r\n",
        "  plt.annotate(round(df_Jan.Lazer[i],2), xy=(-0.2+i,df_Jan.Lazer[i]+15), fontsize=14, rotation=45)\r\n",
        "  i+=1\r\n",
        "ax.set_xlabel('Meses', fontdict={'fontsize':14})\r\n",
        "ax.set_ylabel('Gastos (R$)', fontdict={'fontsize': 14})\r\n",
        "\r\n",
        "#removendo linhas de contorno da esquerda e superior\r\n",
        "sns.despine(top=True, left=True, bottom=True)\r\n",
        "\r\n",
        "#Mudando o tamanho da fonte dos labels\r\n",
        "ax.tick_params(labelsize=14)\r\n",
        "fig.tight_layout();\r\n",
        "\r\n",
        "#gerando um arquivo png do gráfico\r\n",
        "#plt.savefig('Lazer.png')\r\n",
        "\r\n",
        "\r\n",
        "######## ATÉ AQUI, OK #########\r\n",
        "\r\n",
        "####### RETESTAR TUDO, SÓ PARA TER CERTEZA ##############"
      ],
      "execution_count": null,
      "outputs": [
        {
          "output_type": "display_data",
          "data": {
            "image/png": "[encoded data removed]",
            "text/plain": [
              "<Figure size 864x576 with 1 Axes>"
            ]
          },
          "metadata": {
            "tags": [],
            "needs_background": "light"
          }
        }
      ]
    },
    {
      "cell_type": "code",
      "metadata": {
        "colab": {
          "base_uri": "https://localhost:8080/",
          "height": 698
        },
        "id": "vUUsLLrB4Mfu",
        "outputId": "6d41554b-81df-41ea-e664-68af7f6e60af"
      },
      "source": [
        "# seaborn consegue trabalhar com df.index. Aparentemente, isso não é possível com o matplotlib\r\n",
        "fig, ax = plt.subplots(figsize=(12,8))\r\n",
        "sns.barplot(x=df.index, y=df['Transporte'], data=df, palette='Dark2')\r\n",
        "ax.text(7, 350, 'Total: R$ {}'.format(round(df['Transporte'].sum(),2)), size=22, bbox=dict(boxstyle='round4, pad=0.25', fc='white', ec='k', lw=1))\r\n",
        "ax.set_title('Gastos com Transporte em 2020', fontdict={'fontsize':15})\r\n",
        "ax.set_xlabel('Meses', fontdict={'fontsize':14})\r\n",
        "ax.set_ylabel('Gastos (R$)', fontdict={'fontsize': 14})\r\n",
        "sns.despine(top=True, left=True)\r\n",
        "ax.tick_params(labelsize=14)\r\n",
        "fig.tight_layout();\r\n",
        "plt.savefig('transporte.png')"
      ],
      "execution_count": null,
      "outputs": [
        {
          "output_type": "error",
          "ename": "NameError",
          "evalue": "ignored",
          "traceback": [
            "\u001b[0;31m---------------------------------------------------------------------------\u001b[0m",
            "\u001b[0;31mNameError\u001b[0m                                 Traceback (most recent call last)",
            "\u001b[0;32m<ipython-input-17-ed92eaa03272>\u001b[0m in \u001b[0;36m<module>\u001b[0;34m()\u001b[0m\n\u001b[1;32m      1\u001b[0m \u001b[0;31m# seaborn consegue trabalhar com df.index. Aparentemente, isso não é possível com o matplotlib\u001b[0m\u001b[0;34m\u001b[0m\u001b[0;34m\u001b[0m\u001b[0;34m\u001b[0m\u001b[0m\n\u001b[1;32m      2\u001b[0m \u001b[0mfig\u001b[0m\u001b[0;34m,\u001b[0m \u001b[0max\u001b[0m \u001b[0;34m=\u001b[0m \u001b[0mplt\u001b[0m\u001b[0;34m.\u001b[0m\u001b[0msubplots\u001b[0m\u001b[0;34m(\u001b[0m\u001b[0mfigsize\u001b[0m\u001b[0;34m=\u001b[0m\u001b[0;34m(\u001b[0m\u001b[0;36m12\u001b[0m\u001b[0;34m,\u001b[0m\u001b[0;36m8\u001b[0m\u001b[0;34m)\u001b[0m\u001b[0;34m)\u001b[0m\u001b[0;34m\u001b[0m\u001b[0;34m\u001b[0m\u001b[0m\n\u001b[0;32m----> 3\u001b[0;31m \u001b[0msns\u001b[0m\u001b[0;34m.\u001b[0m\u001b[0mbarplot\u001b[0m\u001b[0;34m(\u001b[0m\u001b[0mx\u001b[0m\u001b[0;34m=\u001b[0m\u001b[0mdf\u001b[0m\u001b[0;34m.\u001b[0m\u001b[0mindex\u001b[0m\u001b[0;34m,\u001b[0m \u001b[0my\u001b[0m\u001b[0;34m=\u001b[0m\u001b[0mdf\u001b[0m\u001b[0;34m[\u001b[0m\u001b[0;34m'Transporte'\u001b[0m\u001b[0;34m]\u001b[0m\u001b[0;34m,\u001b[0m \u001b[0mdata\u001b[0m\u001b[0;34m=\u001b[0m\u001b[0mdf\u001b[0m\u001b[0;34m,\u001b[0m \u001b[0mpalette\u001b[0m\u001b[0;34m=\u001b[0m\u001b[0;34m'Dark2'\u001b[0m\u001b[0;34m)\u001b[0m\u001b[0;34m\u001b[0m\u001b[0;34m\u001b[0m\u001b[0m\n\u001b[0m\u001b[1;32m      4\u001b[0m \u001b[0max\u001b[0m\u001b[0;34m.\u001b[0m\u001b[0mtext\u001b[0m\u001b[0;34m(\u001b[0m\u001b[0;36m7\u001b[0m\u001b[0;34m,\u001b[0m \u001b[0;36m350\u001b[0m\u001b[0;34m,\u001b[0m \u001b[0;34m'Total: R$ {}'\u001b[0m\u001b[0;34m.\u001b[0m\u001b[0mformat\u001b[0m\u001b[0;34m(\u001b[0m\u001b[0mround\u001b[0m\u001b[0;34m(\u001b[0m\u001b[0mdf\u001b[0m\u001b[0;34m[\u001b[0m\u001b[0;34m'Transporte'\u001b[0m\u001b[0;34m]\u001b[0m\u001b[0;34m.\u001b[0m\u001b[0msum\u001b[0m\u001b[0;34m(\u001b[0m\u001b[0;34m)\u001b[0m\u001b[0;34m,\u001b[0m\u001b[0;36m2\u001b[0m\u001b[0;34m)\u001b[0m\u001b[0;34m)\u001b[0m\u001b[0;34m,\u001b[0m \u001b[0msize\u001b[0m\u001b[0;34m=\u001b[0m\u001b[0;36m22\u001b[0m\u001b[0;34m,\u001b[0m \u001b[0mbbox\u001b[0m\u001b[0;34m=\u001b[0m\u001b[0mdict\u001b[0m\u001b[0;34m(\u001b[0m\u001b[0mboxstyle\u001b[0m\u001b[0;34m=\u001b[0m\u001b[0;34m'round4, pad=0.25'\u001b[0m\u001b[0;34m,\u001b[0m \u001b[0mfc\u001b[0m\u001b[0;34m=\u001b[0m\u001b[0;34m'white'\u001b[0m\u001b[0;34m,\u001b[0m \u001b[0mec\u001b[0m\u001b[0;34m=\u001b[0m\u001b[0;34m'k'\u001b[0m\u001b[0;34m,\u001b[0m \u001b[0mlw\u001b[0m\u001b[0;34m=\u001b[0m\u001b[0;36m1\u001b[0m\u001b[0;34m)\u001b[0m\u001b[0;34m)\u001b[0m\u001b[0;34m\u001b[0m\u001b[0;34m\u001b[0m\u001b[0m\n\u001b[1;32m      5\u001b[0m \u001b[0max\u001b[0m\u001b[0;34m.\u001b[0m\u001b[0mset_title\u001b[0m\u001b[0;34m(\u001b[0m\u001b[0;34m'Gastos com Transporte em 2020'\u001b[0m\u001b[0;34m,\u001b[0m \u001b[0mfontdict\u001b[0m\u001b[0;34m=\u001b[0m\u001b[0;34m{\u001b[0m\u001b[0;34m'fontsize'\u001b[0m\u001b[0;34m:\u001b[0m\u001b[0;36m15\u001b[0m\u001b[0;34m}\u001b[0m\u001b[0;34m)\u001b[0m\u001b[0;34m\u001b[0m\u001b[0;34m\u001b[0m\u001b[0m\n",
            "\u001b[0;31mNameError\u001b[0m: name 'df' is not defined"
          ]
        },
        {
          "output_type": "display_data",
          "data": {
            "image/png": "[encoded data removed]",
            "text/plain": [
              "<Figure size 864x576 with 1 Axes>"
            ]
          },
          "metadata": {
            "tags": [],
            "needs_background": "light"
          }
        }
      ]
    },
    {
      "cell_type": "code",
      "metadata": {
        "colab": {
          "base_uri": "https://localhost:8080/",
          "height": 698
        },
        "id": "iE1PsbLRA7G_",
        "outputId": "7b0a09af-32b7-4907-8fec-3b39247c91af"
      },
      "source": [
        "# seaborn consegue trabalhar com df.index. Aparentemente, isso não é possível com o matplotlib\r\n",
        "fig, ax = plt.subplots(figsize=(12,8))\r\n",
        "sns.barplot(x=df.index, y=df['Lazer'], data=df, palette='Dark2')\r\n",
        "ax.text(4, 700, 'Total: R$ {}'.format(round(df['Lazer'].sum(),2)), size=22, bbox=dict(boxstyle='round4, pad=0.55', fc='white', ec='k', lw=1))\r\n",
        "ax.set_title('Gastos com Lazer em 2020', fontdict={'fontsize':15})\r\n",
        "ax.set_xlabel('Meses', fontdict={'fontsize':14})\r\n",
        "ax.set_ylabel('Gastos (R$)', fontdict={'fontsize': 14})\r\n",
        "sns.despine(top=True, left=True)\r\n",
        "ax.tick_params(labelsize=14)\r\n",
        "fig.tight_layout();\r\n",
        "plt.savefig('lazer.png')"
      ],
      "execution_count": null,
      "outputs": [
        {
          "output_type": "error",
          "ename": "NameError",
          "evalue": "ignored",
          "traceback": [
            "\u001b[0;31m---------------------------------------------------------------------------\u001b[0m",
            "\u001b[0;31mNameError\u001b[0m                                 Traceback (most recent call last)",
            "\u001b[0;32m<ipython-input-18-f72e5be020f3>\u001b[0m in \u001b[0;36m<module>\u001b[0;34m()\u001b[0m\n\u001b[1;32m      1\u001b[0m \u001b[0;31m# seaborn consegue trabalhar com df.index. Aparentemente, isso não é possível com o matplotlib\u001b[0m\u001b[0;34m\u001b[0m\u001b[0;34m\u001b[0m\u001b[0;34m\u001b[0m\u001b[0m\n\u001b[1;32m      2\u001b[0m \u001b[0mfig\u001b[0m\u001b[0;34m,\u001b[0m \u001b[0max\u001b[0m \u001b[0;34m=\u001b[0m \u001b[0mplt\u001b[0m\u001b[0;34m.\u001b[0m\u001b[0msubplots\u001b[0m\u001b[0;34m(\u001b[0m\u001b[0mfigsize\u001b[0m\u001b[0;34m=\u001b[0m\u001b[0;34m(\u001b[0m\u001b[0;36m12\u001b[0m\u001b[0;34m,\u001b[0m\u001b[0;36m8\u001b[0m\u001b[0;34m)\u001b[0m\u001b[0;34m)\u001b[0m\u001b[0;34m\u001b[0m\u001b[0;34m\u001b[0m\u001b[0m\n\u001b[0;32m----> 3\u001b[0;31m \u001b[0msns\u001b[0m\u001b[0;34m.\u001b[0m\u001b[0mbarplot\u001b[0m\u001b[0;34m(\u001b[0m\u001b[0mx\u001b[0m\u001b[0;34m=\u001b[0m\u001b[0mdf\u001b[0m\u001b[0;34m.\u001b[0m\u001b[0mindex\u001b[0m\u001b[0;34m,\u001b[0m \u001b[0my\u001b[0m\u001b[0;34m=\u001b[0m\u001b[0mdf\u001b[0m\u001b[0;34m[\u001b[0m\u001b[0;34m'Lazer'\u001b[0m\u001b[0;34m]\u001b[0m\u001b[0;34m,\u001b[0m \u001b[0mdata\u001b[0m\u001b[0;34m=\u001b[0m\u001b[0mdf\u001b[0m\u001b[0;34m,\u001b[0m \u001b[0mpalette\u001b[0m\u001b[0;34m=\u001b[0m\u001b[0;34m'Dark2'\u001b[0m\u001b[0;34m)\u001b[0m\u001b[0;34m\u001b[0m\u001b[0;34m\u001b[0m\u001b[0m\n\u001b[0m\u001b[1;32m      4\u001b[0m \u001b[0max\u001b[0m\u001b[0;34m.\u001b[0m\u001b[0mtext\u001b[0m\u001b[0;34m(\u001b[0m\u001b[0;36m4\u001b[0m\u001b[0;34m,\u001b[0m \u001b[0;36m700\u001b[0m\u001b[0;34m,\u001b[0m \u001b[0;34m'Total: R$ {}'\u001b[0m\u001b[0;34m.\u001b[0m\u001b[0mformat\u001b[0m\u001b[0;34m(\u001b[0m\u001b[0mround\u001b[0m\u001b[0;34m(\u001b[0m\u001b[0mdf\u001b[0m\u001b[0;34m[\u001b[0m\u001b[0;34m'Lazer'\u001b[0m\u001b[0;34m]\u001b[0m\u001b[0;34m.\u001b[0m\u001b[0msum\u001b[0m\u001b[0;34m(\u001b[0m\u001b[0;34m)\u001b[0m\u001b[0;34m,\u001b[0m\u001b[0;36m2\u001b[0m\u001b[0;34m)\u001b[0m\u001b[0;34m)\u001b[0m\u001b[0;34m,\u001b[0m \u001b[0msize\u001b[0m\u001b[0;34m=\u001b[0m\u001b[0;36m22\u001b[0m\u001b[0;34m,\u001b[0m \u001b[0mbbox\u001b[0m\u001b[0;34m=\u001b[0m\u001b[0mdict\u001b[0m\u001b[0;34m(\u001b[0m\u001b[0mboxstyle\u001b[0m\u001b[0;34m=\u001b[0m\u001b[0;34m'round4, pad=0.55'\u001b[0m\u001b[0;34m,\u001b[0m \u001b[0mfc\u001b[0m\u001b[0;34m=\u001b[0m\u001b[0;34m'white'\u001b[0m\u001b[0;34m,\u001b[0m \u001b[0mec\u001b[0m\u001b[0;34m=\u001b[0m\u001b[0;34m'k'\u001b[0m\u001b[0;34m,\u001b[0m \u001b[0mlw\u001b[0m\u001b[0;34m=\u001b[0m\u001b[0;36m1\u001b[0m\u001b[0;34m)\u001b[0m\u001b[0;34m)\u001b[0m\u001b[0;34m\u001b[0m\u001b[0;34m\u001b[0m\u001b[0m\n\u001b[1;32m      5\u001b[0m \u001b[0max\u001b[0m\u001b[0;34m.\u001b[0m\u001b[0mset_title\u001b[0m\u001b[0;34m(\u001b[0m\u001b[0;34m'Gastos com Lazer em 2020'\u001b[0m\u001b[0;34m,\u001b[0m \u001b[0mfontdict\u001b[0m\u001b[0;34m=\u001b[0m\u001b[0;34m{\u001b[0m\u001b[0;34m'fontsize'\u001b[0m\u001b[0;34m:\u001b[0m\u001b[0;36m15\u001b[0m\u001b[0;34m}\u001b[0m\u001b[0;34m)\u001b[0m\u001b[0;34m\u001b[0m\u001b[0;34m\u001b[0m\u001b[0m\n",
            "\u001b[0;31mNameError\u001b[0m: name 'df' is not defined"
          ]
        },
        {
          "output_type": "display_data",
          "data": {
            "image/png": "[encoded data removed]",
            "text/plain": [
              "<Figure size 864x576 with 1 Axes>"
            ]
          },
          "metadata": {
            "tags": [],
            "needs_background": "light"
          }
        }
      ]
    },
    {
      "cell_type": "code",
      "metadata": {
        "colab": {
          "base_uri": "https://localhost:8080/",
          "height": 585
        },
        "id": "1X9UXSReBVdd",
        "outputId": "933221d9-e29b-4366-9247-edda89f1fc1f"
      },
      "source": [
        "# seaborn consegue trabalhar com df.index. Aparentemente, isso não é possível com o matplotlib\r\n",
        "fig, ax = plt.subplots(figsize=(13,8))\r\n",
        "sns.barplot(x=df.index, y=df['Suellen'], data=df, palette='Dark2')\r\n",
        "ax.text(11, 500, 'Total: R$ {}'.format(round(df['Suellen'].sum(),2)), size=22, bbox=dict(boxstyle='round4, pad=0.25', fc='white', ec='k', lw=1))\r\n",
        "ax.set_title('Gastos com a Suellen em 2020', fontdict={'fontsize':15})\r\n",
        "ax.set_xlabel('Meses', fontdict={'fontsize':14})\r\n",
        "ax.set_ylabel('Gastos (R$)', fontdict={'fontsize': 14})\r\n",
        "sns.despine(left=True, top=True)\r\n",
        "ax.tick_params(labelsize=14)\r\n",
        "fig.tight_layout();\r\n",
        "plt.savefig('suellen.png')"
      ],
      "execution_count": null,
      "outputs": [
        {
          "output_type": "display_data",
          "data": {
            "image/png": "[encoded data removed]",
            "text/plain": [
              "<Figure size 936x576 with 1 Axes>"
            ]
          },
          "metadata": {
            "tags": [],
            "needs_background": "light"
          }
        }
      ]
    },
    {
      "cell_type": "code",
      "metadata": {
        "colab": {
          "base_uri": "https://localhost:8080/",
          "height": 585
        },
        "id": "MHVzvc4owZB_",
        "outputId": "1d243f10-3778-4f0a-d7f0-a14430d8dfe8"
      },
      "source": [
        "# seaborn consegue trabalhar com df.index. Aparentemente, isso não é possível com o matplotlib\r\n",
        "fig, ax = plt.subplots(figsize=(12,8))\r\n",
        "sns.barplot(x=df.index, y=df['Carro'], data=df, palette='Dark2')\r\n",
        "ax.text(4, 900, 'Total: R$ {}'.format(round(df['Carro'].sum(),2)), size=22, bbox=dict(boxstyle='round4, pad=0.6', fc='white', ec='k', lw=1))\r\n",
        "ax.set_title('Gastos com o Carro em 2020', fontdict={'fontsize':15})\r\n",
        "ax.set_xlabel('Meses', fontdict={'fontsize':14})\r\n",
        "ax.set_ylabel('Gastos (R$)', fontdict={'fontsize': 14})\r\n",
        "sns.despine(left=True, top=True)\r\n",
        "ax.tick_params(labelsize=14)\r\n",
        "fig.tight_layout();\r\n",
        "plt.savefig('carro.png')"
      ],
      "execution_count": null,
      "outputs": [
        {
          "output_type": "display_data",
          "data": {
            "image/png": "[encoded data removed]",
            "text/plain": [
              "<Figure size 864x576 with 1 Axes>"
            ]
          },
          "metadata": {
            "tags": [],
            "needs_background": "light"
          }
        }
      ]
    },
    {
      "cell_type": "code",
      "metadata": {
        "colab": {
          "base_uri": "https://localhost:8080/",
          "height": 585
        },
        "id": "knSHHRMUXkZZ",
        "outputId": "50a83762-cc63-49cc-d95d-82ba7514de81"
      },
      "source": [
        "# plotando gráfico para a categoria jogos\r\n",
        "fig, ax = plt.subplots(figsize=(12,8))\r\n",
        "sns.barplot(x=df.index, y=df['Jogos'], data=df, palette='RdPu')\r\n",
        "ax.text(0, 1000, 'Total: R$ {}'.format(round(df['Jogos'].sum(), 2)), size=22, bbox=dict(boxstyle='round, pad=0.3', fc='white', ec='k', lw=1))\r\n",
        "ax.set_title('Gastos com Jogos em 2020', fontdict={'fontsize': 14})\r\n",
        "ax.set_xlabel('Meses', fontdict={'fontsize': 14})\r\n",
        "ax.set_ylabel('Gastos', fontdict={'fontsize':14})\r\n",
        "sns.despine(left=True, bottom=True)\r\n",
        "ax.grid(axis='y')\r\n",
        "ax.tick_params(labelsize=14)\r\n",
        "fig.tight_layout();\r\n",
        "plt.savefig('jogos.png')"
      ],
      "execution_count": null,
      "outputs": [
        {
          "output_type": "display_data",
          "data": {
            "image/png": "[encoded data removed]",
            "text/plain": [
              "<Figure size 864x576 with 1 Axes>"
            ]
          },
          "metadata": {
            "tags": [],
            "needs_background": "light"
          }
        }
      ]
    },
    {
      "cell_type": "code",
      "metadata": {
        "colab": {
          "base_uri": "https://localhost:8080/",
          "height": 585
        },
        "id": "WahUaPBOkMi2",
        "outputId": "f7653b7a-de0c-4930-e1eb-14500cddddab"
      },
      "source": [
        "# plotando gráfico para a categoria jogos\r\n",
        "fig, ax = plt.subplots(figsize=(12,8))\r\n",
        "sns.barplot(x=df.index, y=df['Mensais'], data=df, palette='RdPu')\r\n",
        "ax.text(0, 1000, 'Total: R$ {}'.format(round(df['Mensais'].sum(), 2)), size=22, bbox=dict(boxstyle='round, pad=0.3', fc='white', ec='k', lw=1))\r\n",
        "ax.set_title('Gastos Mensais em 2020', fontdict={'fontsize': 14})\r\n",
        "ax.set_xlabel('Meses', fontdict={'fontsize': 14})\r\n",
        "ax.set_ylabel('Gastos', fontdict={'fontsize':14})\r\n",
        "sns.despine(left=True, bottom=True)\r\n",
        "ax.grid(axis='y')\r\n",
        "ax.tick_params(labelsize=14)\r\n",
        "fig.tight_layout();\r\n",
        "plt.savefig('mensais.png')"
      ],
      "execution_count": null,
      "outputs": [
        {
          "output_type": "display_data",
          "data": {
            "image/png": "[encoded data removed]",
            "text/plain": [
              "<Figure size 864x576 with 1 Axes>"
            ]
          },
          "metadata": {
            "tags": [],
            "needs_background": "light"
          }
        }
      ]
    },
    {
      "cell_type": "code",
      "metadata": {
        "colab": {
          "base_uri": "https://localhost:8080/",
          "height": 585
        },
        "id": "QhiiI0-XUb7p",
        "outputId": "8cc98289-187b-438b-9273-384183ca8464"
      },
      "source": [
        "# Gerando o gráfico\r\n",
        "# seaborn consegue trabalhar com df.index. Aparentemente, isso não é possível com o matplotlib\r\n",
        "\r\n",
        "fig, ax = plt.subplots(figsize=(12,8))\r\n",
        "sns.barplot(x=df1.index, y=df1['Total'], data=df1)\r\n",
        "ax.set_title('Gastos Totais por Categoria em 2020', fontdict={'fontsize':15})\r\n",
        "ax.set_ylabel('Gastos (R$)', fontdict={'fontsize': 14})\r\n",
        "ax.text(7, 10000, \"Total: R$ {}\".format(round(df1['Total'].sum(), 2)), size=18, bbox=dict(boxstyle='square, pad=0.25',fc = 'white', ec='b', lw=1))\r\n",
        "#ax.annotate('Total: {}'.format(round(df1['Total'].sum(), 2)), xy=(6,10000)) \r\n",
        "plt.xticks(rotation=80)\r\n",
        "sns.despine(top=True, left=True)\r\n",
        "ax.tick_params(labelsize=14)\r\n",
        "fig.tight_layout();\r\n",
        "plt.savefig('totais.png')"
      ],
      "execution_count": null,
      "outputs": [
        {
          "output_type": "display_data",
          "data": {
            "image/png": "[encoded data removed]",
            "text/plain": [
              "<Figure size 864x576 with 1 Axes>"
            ]
          },
          "metadata": {
            "tags": [],
            "needs_background": "light"
          }
        }
      ]
    },
    {
      "cell_type": "code",
      "metadata": {
        "id": "ZNOH6mRXfOui"
      },
      "source": [
        "# plotando as imagens em na aba 'Conclusão' criada na planilha `contas 2020.xlsx`\r\n",
        "conclusao = workbook.create_sheet('Conclusão')\r\n",
        "totais = Image('totais.png')\r\n",
        "conclusao.add_image(totais, 'A1')\r\n",
        "workbook.save(filename='Contas 2020 python.xlsx')"
      ],
      "execution_count": null,
      "outputs": []
    },
    {
      "cell_type": "code",
      "metadata": {
        "id": "fQ47rV7biv3P"
      },
      "source": [
        ""
      ],
      "execution_count": null,
      "outputs": []
    }
  ]
}